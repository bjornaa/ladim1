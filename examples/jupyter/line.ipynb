{
 "cells": [
  {
   "cell_type": "markdown",
   "metadata": {
    "collapsed": true
   },
   "source": [
    "# Jupyter notebook version of the line example\n",
    "\n",
    "This example shows how to run and document a model experiment with LADiM in a jupyter notebook.\n",
    "\n",
    "The example is modified from a notebook from Pål N. Sævik"
   ]
  },
  {
   "cell_type": "markdown",
   "metadata": {},
   "source": [
    "## Imports "
   ]
  },
  {
   "cell_type": "code",
   "execution_count": null,
   "metadata": {},
   "outputs": [],
   "source": [
    "# Basic\n",
    "from io import StringIO\n",
    "import numpy as np\n",
    "from netCDF4 import Dataset\n",
    "\n",
    "# Plotting\n",
    "import matplotlib.pyplot as plt\n",
    "import matplotlib.animation as animation\n",
    "from IPython.display import HTML\n",
    "%matplotlib inline\n",
    "\n",
    "# Ladim\n",
    "import ladim1\n",
    "from postladim import ParticleFile"
   ]
  },
  {
   "cell_type": "markdown",
   "metadata": {},
   "source": [
    "## Basic settings"
   ]
  },
  {
   "cell_type": "code",
   "execution_count": null,
   "metadata": {},
   "outputs": [],
   "source": [
    "# Time\n",
    "start_time = '1989-05-24T12:00:00'\n",
    "stop_time  = '1989-06-15T12:00:00'\n",
    "# Files\n",
    "input_file    = '../data/ocean_avg_0014.nc'\n",
    "particle_file = 'line.nc'\n",
    "release_file  = 'line.rls'"
   ]
  },
  {
   "cell_type": "markdown",
   "metadata": {},
   "source": [
    "## Release file\n",
    "\n",
    "First make a release file, initializing a line of particles"
   ]
  },
  {
   "cell_type": "code",
   "execution_count": null,
   "metadata": {},
   "outputs": [],
   "source": [
    "# End points of the line (in grid coordinates)\n",
    "x0, x1 = 63.55, 123.45\n",
    "y0, y1 = 90.0, 90.0\n",
    "\n",
    "# Generate the points along the line\n",
    "Npart = 1000\n",
    "X = np.linspace(x0, x1, Npart)\n",
    "Y = np.linspace(y0, y1, Npart)\n",
    "\n",
    "# Particle depth\n",
    "Z = 5 \n",
    "\n",
    "# Write the release file\n",
    "with open(release_file, mode='w', encoding='utf-8') as fid:\n",
    "    for x, y in zip(X, Y):\n",
    "        fid.write(f'{start_time:s} {x:7.3f} {y:7.3f} {Z:6.1f}\\n')"
   ]
  },
  {
   "cell_type": "markdown",
   "metadata": {},
   "source": [
    "## Config file\n",
    "\n",
    "This file configures the numerical experiment. The text is in yaml format. Python 3.6 f-strings are used, variables in single curly braces are filled in. Double braces are used to generate single braces in the yaml file."
   ]
  },
  {
   "cell_type": "code",
   "execution_count": null,
   "metadata": {},
   "outputs": [],
   "source": [
    "yaml_text = StringIO(f\"\"\"\n",
    "time_control:\n",
    "    # Start and stop of simulation\n",
    "    start_time : {start_time}\n",
    "    stop_time  : {stop_time}\n",
    "\n",
    "files:\n",
    "    particle_release_file : {release_file}\n",
    "    output_file           : {particle_file}\n",
    "\n",
    "particle_release:\n",
    "    variables: [release_time, X, Y, Z]\n",
    "    # Converters (if not float)\n",
    "    release_time: time\n",
    "    particle_variables: [release_time]\n",
    "\n",
    "gridforce:\n",
    "    module: ladim1.gridforce.ROMS\n",
    "    input_file            : {input_file}\n",
    "\n",
    "output_variables:\n",
    "    # Output period, format [value, unit], unit = s, m, h, or d\n",
    "    outper: [3, h]\n",
    "    # Variable names\n",
    "    particle: [release_time]\n",
    "    instance: [pid, X, Y, Z]\n",
    "    # NetCDF arguments\n",
    "    release_time:\n",
    "        ncformat: f8\n",
    "        long_name: particle release time\n",
    "        units: seconds since reference_time\n",
    "    pid: {{ncformat: i4, long_name: particle identifier}}\n",
    "    X: {{ncformat: f4, long_name: particle X-coordinate}}\n",
    "    Y: {{ncformat: f4, long_name: particle Y-coordinate}}\n",
    "    Z:\n",
    "        ncformat: f4\n",
    "        long_name: particle depth\n",
    "        standard_name: depth_below_surface\n",
    "        units: m\n",
    "        positive: down\n",
    "\n",
    "numerics:\n",
    "    # Model time step, [value, unit]\n",
    "    dt: [1, h]\n",
    "    # Advection method: options =\n",
    "    #        EF = Euler-Forward,\n",
    "    #        RK2, RK4 = Runge-Kutta 2nd or 4th order\n",
    "    advection: RK4\n",
    "    # Horizontal diffusion coefficient [m2.s-1]\n",
    "    #         zero = no diffusion\n",
    "    diffusion: 0.0\n",
    "\"\"\")"
   ]
  },
  {
   "cell_type": "markdown",
   "metadata": {},
   "source": [
    "## Ladim simulation"
   ]
  },
  {
   "cell_type": "code",
   "execution_count": null,
   "metadata": {},
   "outputs": [],
   "source": [
    "# ladim1.main(config_stream=yaml_text, loglevel='WARNING')\n",
    "ladim1.main(config_stream=yaml_text)"
   ]
  },
  {
   "cell_type": "code",
   "execution_count": null,
   "metadata": {},
   "outputs": [],
   "source": [
    "# Reset log level\n",
    "import logging\n",
    "logging.getLogger().setLevel('WARNING')"
   ]
  },
  {
   "cell_type": "markdown",
   "metadata": {},
   "source": [
    "##  Plot initial particle distribution\n",
    "\n",
    "This also prepares for the following animation."
   ]
  },
  {
   "cell_type": "code",
   "execution_count": null,
   "metadata": {},
   "outputs": [],
   "source": [
    "# Subgrid for plotting\n",
    "i0, i1 = 50, 150\n",
    "j0, j1 = 60, 140\n",
    "\n",
    "# Read data for background plot\n",
    "with Dataset(input_file) as ncid:\n",
    "    H = ncid.variables['h'][j0:j1, i0:i1]\n",
    "    M = ncid.variables['mask_rho'][j0:j1, i0:i1]\n",
    "    lon = ncid.variables['lon_rho'][j0:j1, i0:i1]\n",
    "    lat = ncid.variables['lat_rho'][j0:j1, i0:i1]\n",
    "    \n",
    "# Cell centers and boundaries\n",
    "Xcell = np.arange(i0, i1)\n",
    "Ycell = np.arange(j0, j1)\n",
    "Xb = np.arange(i0-0.5, i1)\n",
    "Yb = np.arange(j0-0.5, j1)\n",
    "\n",
    "# Set up the plot area\n",
    "fig = plt.figure(figsize=(8, 6))\n",
    "ax = plt.axes(xlim=(i0+1, i1-1), ylim=(j0+1, j1-1), aspect='equal')\n",
    "\n",
    "# Background bathymetry\n",
    "cmap = plt.get_cmap('Blues')\n",
    "ax.contourf(Xcell, Ycell, H, cmap=cmap)\n",
    "\n",
    "# Lon/lat lines\n",
    "ax.contour(Xcell, Ycell, lat, levels=range(55, 63),\n",
    "           colors='grey', linestyles=':')\n",
    "ax.contour(Xcell, Ycell, lon, levels=range(-6, 10, 2),\n",
    "           colors='grey', linestyles=':')\n",
    "\n",
    "# A simple landmask from the ROMS grid\n",
    "constmap = plt.matplotlib.colors.ListedColormap([0.2, 0.6, 0.4])\n",
    "M = np.ma.masked_where(M > 0, M)\n",
    "ax.pcolormesh(Xb, Yb, M, cmap=constmap)\n",
    "\n",
    "\n",
    "# particle_file\n",
    "pf = ParticleFile(particle_file)\n",
    "\n",
    "# Particle plot\n",
    "dots, = ax.plot(X, Y, '.', color='red')\n",
    "\n",
    "# Time stamp, lower left corner\n",
    "timestamp = ax.text(0.03, 0.03, pf.time[0].values.astype(\"M8[h]\"), fontsize=15,\n",
    "                    transform=ax.transAxes)\n",
    "\n",
    "# Animation update function\n",
    "def plot_dots(timestep):\n",
    "    X, Y = pf.position(timestep)\n",
    "    dots.set_data(X, Y)\n",
    "    timestamp.set_text(pf.time[timestep].values.astype(\"M8[h]\"))\n",
    "    return dots\n",
    "\n",
    "plot_dots(0);"
   ]
  },
  {
   "cell_type": "markdown",
   "metadata": {},
   "source": [
    "## Animation "
   ]
  },
  {
   "cell_type": "code",
   "execution_count": null,
   "metadata": {},
   "outputs": [],
   "source": [
    "anim = animation.FuncAnimation(fig, plot_dots,\n",
    "    frames=pf.num_times, interval=50, repeat=False)\n",
    "\n",
    "HTML(anim.to_html5_video())"
   ]
  },
  {
   "cell_type": "code",
   "execution_count": null,
   "metadata": {},
   "outputs": [],
   "source": []
  },
  {
   "cell_type": "code",
   "execution_count": null,
   "metadata": {},
   "outputs": [],
   "source": []
  }
 ],
 "metadata": {
  "kernelspec": {
   "display_name": "Python 3 (ipykernel)",
   "language": "python",
   "name": "python3"
  },
  "language_info": {
   "codemirror_mode": {
    "name": "ipython",
    "version": 3
   },
   "file_extension": ".py",
   "mimetype": "text/x-python",
   "name": "python",
   "nbconvert_exporter": "python",
   "pygments_lexer": "ipython3",
   "version": "3.10.5"
  }
 },
 "nbformat": 4,
 "nbformat_minor": 2
}
