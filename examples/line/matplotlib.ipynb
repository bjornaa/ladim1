{
 "cells": [
  {
   "cell_type": "code",
   "execution_count": null,
   "metadata": {},
   "outputs": [],
   "source": [
    "import matplotlib.pyplot as plt\n",
    "from netCDF4 import Dataset\n",
    "from postladim import ParticleFile"
   ]
  },
  {
   "cell_type": "code",
   "execution_count": null,
   "metadata": {},
   "outputs": [],
   "source": [
    "pf = ParticleFile('line.nc')\n",
    "f = Dataset('../data/ocean_avg_0014.nc')"
   ]
  },
  {
   "cell_type": "code",
   "execution_count": null,
   "metadata": {},
   "outputs": [],
   "source": [
    "# Simple plot all particles time step 80\n",
    "\n",
    "X, Y = pf.position(80)\n",
    "plt.plot(X, Y, '.')\n"
   ]
  },
  {
   "cell_type": "code",
   "execution_count": null,
   "metadata": {},
   "outputs": [],
   "source": [
    "# Add land\n",
    "X, Y = pf.position(80)\n",
    "\n",
    "M = f.variables['mask_rho'][:, :] # = 1 at sea, = 0 on land\n",
    "# Use vmin/vmax to dampen the land colour\n",
    "plt.pcolormesh(M, cmap='BuGn_r', vmin=-1, vmax=1.2)\n",
    "plt.plot(X, Y, marker='.', color='red', alpha=0.1)\n",
    " # Get correct aspect ratio\n",
    "plt.axis('image'); "
   ]
  },
  {
   "cell_type": "code",
   "execution_count": null,
   "metadata": {},
   "outputs": [],
   "source": [
    "# Plot some trajectories\n",
    "trajs = []\n",
    "for pid in range(10, 1000, 20):\n",
    "    trajs.append(pf.trajectory(pid))\n",
    "\n",
    "M = f.variables['mask_rho'][:, :] # = 1 at sea, = 0 on land\n",
    "plt.pcolormesh(M, cmap='BuGn_r', vmin=-1, vmax=1.2)\n",
    "for traj in trajs:\n",
    "    # plt.plot(traj.X, traj.Y, 'r.', markersize=1)\n",
    "    plt.plot(traj.X, traj.Y, 'r')\n",
    "    plt.plot(traj.X[0], traj.Y[0], 'k.', markersize=1)\n",
    "plt.axis('image')\n",
    "# zoom\n",
    "plt.axis((55, 130, 70, 120));  "
   ]
  },
  {
   "cell_type": "code",
   "execution_count": null,
   "metadata": {},
   "outputs": [],
   "source": []
  },
  {
   "cell_type": "code",
   "execution_count": null,
   "metadata": {},
   "outputs": [],
   "source": []
  }
 ],
 "metadata": {
  "kernelspec": {
   "display_name": "Python 3",
   "language": "python",
   "name": "python3"
  },
  "language_info": {
   "codemirror_mode": {
    "name": "ipython",
    "version": 3
   },
   "file_extension": ".py",
   "mimetype": "text/x-python",
   "name": "python",
   "nbconvert_exporter": "python",
   "pygments_lexer": "ipython3",
   "version": "3.9.1"
  }
 },
 "nbformat": 4,
 "nbformat_minor": 2
}
