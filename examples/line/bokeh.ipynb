{
 "cells": [
  {
   "cell_type": "code",
   "execution_count": null,
   "metadata": {},
   "outputs": [],
   "source": [
    "from netCDF4 import Dataset\n",
    "\n",
    "from bokeh.plotting import figure, output_notebook, show\n",
    "from postladim import ParticleFile\n",
    "\n",
    "# output to static HTML file\n",
    "# output_file(\"line.html\")\n",
    "\n",
    "output_notebook()"
   ]
  },
  {
   "cell_type": "code",
   "execution_count": null,
   "metadata": {},
   "outputs": [],
   "source": [
    "p = figure(plot_width=400, plot_height=400)\n",
    "\n",
    "pf = ParticleFile('line.nc')\n",
    "X, Y = pf.position(80)\n",
    "\n",
    "# add a circle renderer with a size, color, and alpha\n",
    "p.circle(X, Y, size=2, color=\"red\", alpha=0.5)\n",
    "\n",
    "# show the results\n",
    "show(p)"
   ]
  },
  {
   "cell_type": "code",
   "execution_count": null,
   "metadata": {},
   "outputs": [],
   "source": [
    "f = Dataset('../data/ocean_avg_0014.nc')\n",
    "\n",
    "M = f.variables['mask_rho'][:, :]\n",
    "jmax, imax = M.shape\n",
    "\n",
    "scale = 2\n",
    "p = figure(plot_width=scale*imax, plot_height=scale*jmax,\n",
    "           x_range=(-0.5, imax-0.5), y_range=(-0.5, jmax-0.5))\n",
    "\n",
    "p.image(image=[M], x=[-0.5], y=[-0.5], dw=[imax], dh=[jmax], palette=['forestgreen', 'lightblue'])\n",
    "\n",
    "p.circle(X, Y, size=2, color=\"red\", alpha=0.5)\n",
    "\n",
    "show(p)"
   ]
  },
  {
   "cell_type": "code",
   "execution_count": null,
   "metadata": {},
   "outputs": [],
   "source": [
    "import numpy as np\n",
    "with Dataset('../data/ocean_avg_0014.nc') as f:\n",
    "    H = f.variables['h'][:, :]\n",
    "    M = f.variables['mask_rho'][:, :]\n",
    "jmax, imax = M.shape\n",
    "H[M < 1] = np.nan\n",
    "\n",
    "scale = 2\n",
    "p = figure(plot_width=scale*imax, plot_height=scale*jmax,\n",
    "           x_range=(-0.5, imax-0.5), y_range=(-0.5, jmax-0.5))\n",
    "\n",
    "p.image(image=[-np.log(H)], x=[-0.5], y=[-0.5], dw=[imax], dh=[jmax], \n",
    "        palette='Blues8', alpha=0.7)\n",
    "\n",
    "p.circle(X, Y, size=2, color=\"red\", alpha=0.5)\n",
    "\n",
    "show(p)"
   ]
  },
  {
   "cell_type": "code",
   "execution_count": null,
   "metadata": {},
   "outputs": [],
   "source": []
  }
 ],
 "metadata": {
  "kernelspec": {
   "display_name": "Python 3",
   "language": "python",
   "name": "python3"
  },
  "language_info": {
   "codemirror_mode": {
    "name": "ipython",
    "version": 3
   },
   "file_extension": ".py",
   "mimetype": "text/x-python",
   "name": "python",
   "nbconvert_exporter": "python",
   "pygments_lexer": "ipython3",
   "version": "3.6.6"
  }
 },
 "nbformat": 4,
 "nbformat_minor": 2
}
