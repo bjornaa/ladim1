{
 "cells": [
  {
   "cell_type": "markdown",
   "metadata": {
    "collapsed": true
   },
   "source": [
    "# Animating LADiM output\n",
    "\n",
    "This notebook demonstrates how to animate LADiM output in a jupyter notebook.\n",
    "\n",
    "The example is modified from a notebook from Pål N. Sævik"
   ]
  },
  {
   "cell_type": "markdown",
   "metadata": {},
   "source": [
    "## Imports "
   ]
  },
  {
   "cell_type": "code",
   "execution_count": null,
   "metadata": {},
   "outputs": [],
   "source": [
    "# Basic\n",
    "import numpy as np\n",
    "from netCDF4 import Dataset\n",
    "\n",
    "# Plotting\n",
    "import matplotlib.pyplot as plt\n",
    "import matplotlib.animation as animation\n",
    "from IPython.display import HTML\n",
    "%matplotlib inline\n",
    "\n",
    "# Ladim\n",
    "from postladim import ParticleFile"
   ]
  },
  {
   "cell_type": "markdown",
   "metadata": {},
   "source": [
    "## Basic settings"
   ]
  },
  {
   "cell_type": "code",
   "execution_count": null,
   "metadata": {},
   "outputs": [],
   "source": [
    "# Files\n",
    "ladim_file = 'line.nc'\n",
    "grid_file    = '../data/ocean_avg_0014.nc'\n",
    "\n",
    "# Subgrid for plotting\n",
    "i0, i1 = 50, 150\n",
    "j0, j1 = 60, 140"
   ]
  },
  {
   "cell_type": "markdown",
   "metadata": {},
   "source": [
    "##  Plot initial particle distribution\n",
    "\n",
    "This also prepares for the following animation."
   ]
  },
  {
   "cell_type": "code",
   "execution_count": null,
   "metadata": {},
   "outputs": [],
   "source": [
    "# Read data for background plot\n",
    "with Dataset(grid_file) as ncid:\n",
    "    H = ncid.variables['h'][j0:j1, i0:i1]\n",
    "    M = ncid.variables['mask_rho'][j0:j1, i0:i1]\n",
    "    lon = ncid.variables['lon_rho'][j0:j1, i0:i1]\n",
    "    lat = ncid.variables['lat_rho'][j0:j1, i0:i1]\n",
    "    \n",
    "# Cell centers and boundaries\n",
    "Xcell = np.arange(i0, i1)\n",
    "Ycell = np.arange(j0, j1)\n",
    "Xb = np.arange(i0-0.5, i1)\n",
    "Yb = np.arange(j0-0.5, j1)\n",
    "\n",
    "# Set up the plot area\n",
    "fig = plt.figure(figsize=(8, 6))\n",
    "ax = plt.axes(xlim=(i0+1, i1-1), ylim=(j0+1, j1-1), aspect='equal')\n",
    "\n",
    "# Background bathymetry\n",
    "cmap = plt.get_cmap('Blues')\n",
    "ax.contourf(Xcell, Ycell, H, cmap=cmap)\n",
    "\n",
    "# Lon/lat lines\n",
    "ax.contour(Xcell, Ycell, lat, levels=range(55, 63),\n",
    "           colors='grey', linestyles=':')\n",
    "ax.contour(Xcell, Ycell, lon, levels=range(-6, 10, 2),\n",
    "           colors='grey', linestyles=':')\n",
    "\n",
    "# A simple landmask from the ROMS grid\n",
    "constmap = plt.matplotlib.colors.ListedColormap([0.2, 0.6, 0.4])\n",
    "M = np.ma.masked_where(M > 0, M)\n",
    "ax.pcolormesh(Xb, Yb, M, cmap=constmap)\n",
    "\n",
    "# particle_file\n",
    "pf = ParticleFile(ladim_file)\n",
    "\n",
    "# Particle plot\n",
    "X, Y = pf.position(0)\n",
    "dots, = ax.plot(X, Y, '.', color='red')\n",
    "\n",
    "# Time stamp, lower left corner\n",
    "timestamp = ax.text(0.03, 0.03, pf.time(0), fontsize=15,\n",
    "                    transform=ax.transAxes)\n",
    "\n",
    "# Animation update function\n",
    "def plot_dots(timestep):\n",
    "    X, Y = pf.position(timestep)\n",
    "    dots.set_data(X, Y)\n",
    "    timestamp.set_text(pf.time(timestep))\n",
    "    return dots\n",
    "\n",
    "plot_dots(0);"
   ]
  },
  {
   "cell_type": "markdown",
   "metadata": {},
   "source": [
    "## Animation "
   ]
  },
  {
   "cell_type": "code",
   "execution_count": null,
   "metadata": {},
   "outputs": [],
   "source": [
    "anim = animation.FuncAnimation(fig, plot_dots,\n",
    "    frames=pf.num_times, interval=50, repeat=False)\n",
    "\n",
    "HTML(anim.to_html5_video())"
   ]
  },
  {
   "cell_type": "code",
   "execution_count": null,
   "metadata": {},
   "outputs": [],
   "source": []
  }
 ],
 "metadata": {
  "kernelspec": {
   "display_name": "Python 3",
   "language": "python",
   "name": "python3"
  },
  "language_info": {
   "codemirror_mode": {
    "name": "ipython",
    "version": 3
   },
   "file_extension": ".py",
   "mimetype": "text/x-python",
   "name": "python",
   "nbconvert_exporter": "python",
   "pygments_lexer": "ipython3",
   "version": "3.9.1"
  }
 },
 "nbformat": 4,
 "nbformat_minor": 2
}
